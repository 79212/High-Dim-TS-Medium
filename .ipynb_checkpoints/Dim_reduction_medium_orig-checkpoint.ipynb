{
 "cells": [
  {
   "cell_type": "code",
   "execution_count": 1,
   "metadata": {
    "colab": {},
    "colab_type": "code",
    "id": "OH1hh3sqmI39"
   },
   "outputs": [],
   "source": [
    "%matplotlib inline\n",
    "%reload_ext autoreload\n",
    "%autoreload 2\n",
    "%config InlineBackend.figure_format = 'retina'"
   ]
  },
  {
   "cell_type": "code",
   "execution_count": 2,
   "metadata": {
    "colab": {},
    "colab_type": "code",
    "id": "qvMXmSSHoHW_"
   },
   "outputs": [
    {
     "name": "stderr",
     "output_type": "stream",
     "text": [
      "/Users/DBetancourt/anaconda3/envs/tensorflow_p37/lib/python3.7/site-packages/sklearn/externals/joblib/__init__.py:15: DeprecationWarning: sklearn.externals.joblib is deprecated in 0.21 and will be removed in 0.23. Please import this functionality directly from joblib, which can be installed with: pip install joblib. If this warning is raised when loading pickled models, you may need to re-serialize those models with scikit-learn 0.21+.\n",
      "  warnings.warn(msg, category=DeprecationWarning)\n"
     ]
    }
   ],
   "source": [
    "import numpy as np\n",
    "import pandas as pd\n",
    "from scipy.stats import expon, randint\n",
    "from sklearn.utils.testing import ignore_warnings\n",
    "from sklearn.exceptions import ConvergenceWarning\n",
    "from sklearn.externals import joblib\n",
    "from sklearn.metrics import confusion_matrix\n",
    "from sklearn.model_selection import train_test_split, GridSearchCV, RandomizedSearchCV\n",
    "\n",
    "from sklearn.decomposition import KernelPCA, PCA\n"
   ]
  },
  {
   "cell_type": "code",
   "execution_count": 3,
   "metadata": {},
   "outputs": [],
   "source": [
    "import data_cleaning "
   ]
  },
  {
   "cell_type": "code",
   "execution_count": 4,
   "metadata": {},
   "outputs": [
    {
     "ename": "ImportError",
     "evalue": "Unable to find a usable engine; tried using: 'pyarrow', 'fastparquet'.\npyarrow or fastparquet is required for parquet support",
     "output_type": "error",
     "traceback": [
      "\u001b[0;31m---------------------------------------------------------------------------\u001b[0m",
      "\u001b[0;31mImportError\u001b[0m                               Traceback (most recent call last)",
      "\u001b[0;32m<ipython-input-4-a21109782f30>\u001b[0m in \u001b[0;36m<module>\u001b[0;34m\u001b[0m\n\u001b[1;32m      1\u001b[0m \u001b[0;31m# Load raw data\u001b[0m\u001b[0;34m\u001b[0m\u001b[0;34m\u001b[0m\u001b[0;34m\u001b[0m\u001b[0m\n\u001b[1;32m      2\u001b[0m \u001b[0;31m# X_data_all = pd.read_parquet('df_all_61.parquet', columns=feats_preselect.append('csv_name'))\u001b[0m\u001b[0;34m\u001b[0m\u001b[0;34m\u001b[0m\u001b[0;34m\u001b[0m\u001b[0m\n\u001b[0;32m----> 3\u001b[0;31m \u001b[0mX_data_all\u001b[0m \u001b[0;34m=\u001b[0m \u001b[0mpd\u001b[0m\u001b[0;34m.\u001b[0m\u001b[0mread_parquet\u001b[0m\u001b[0;34m(\u001b[0m\u001b[0;34m'df_all_61.parquet'\u001b[0m\u001b[0;34m)\u001b[0m\u001b[0;34m\u001b[0m\u001b[0;34m\u001b[0m\u001b[0m\n\u001b[0m\u001b[1;32m      4\u001b[0m \u001b[0;31m# X_data_all = pd.read_parquet('df_all_61.parquet', columns=feats_preselect)\u001b[0m\u001b[0;34m\u001b[0m\u001b[0;34m\u001b[0m\u001b[0;34m\u001b[0m\u001b[0m\n\u001b[1;32m      5\u001b[0m \u001b[0mprint\u001b[0m\u001b[0;34m(\u001b[0m\u001b[0mX_data_all\u001b[0m\u001b[0;34m.\u001b[0m\u001b[0mshape\u001b[0m\u001b[0;34m)\u001b[0m\u001b[0;34m\u001b[0m\u001b[0;34m\u001b[0m\u001b[0m\n",
      "\u001b[0;32m~/anaconda3/envs/tensorflow_p37/lib/python3.7/site-packages/pandas/io/parquet.py\u001b[0m in \u001b[0;36mread_parquet\u001b[0;34m(path, engine, columns, **kwargs)\u001b[0m\n\u001b[1;32m    293\u001b[0m     \"\"\"\n\u001b[1;32m    294\u001b[0m \u001b[0;34m\u001b[0m\u001b[0m\n\u001b[0;32m--> 295\u001b[0;31m     \u001b[0mimpl\u001b[0m \u001b[0;34m=\u001b[0m \u001b[0mget_engine\u001b[0m\u001b[0;34m(\u001b[0m\u001b[0mengine\u001b[0m\u001b[0;34m)\u001b[0m\u001b[0;34m\u001b[0m\u001b[0;34m\u001b[0m\u001b[0m\n\u001b[0m\u001b[1;32m    296\u001b[0m     \u001b[0;32mreturn\u001b[0m \u001b[0mimpl\u001b[0m\u001b[0;34m.\u001b[0m\u001b[0mread\u001b[0m\u001b[0;34m(\u001b[0m\u001b[0mpath\u001b[0m\u001b[0;34m,\u001b[0m \u001b[0mcolumns\u001b[0m\u001b[0;34m=\u001b[0m\u001b[0mcolumns\u001b[0m\u001b[0;34m,\u001b[0m \u001b[0;34m**\u001b[0m\u001b[0mkwargs\u001b[0m\u001b[0;34m)\u001b[0m\u001b[0;34m\u001b[0m\u001b[0;34m\u001b[0m\u001b[0m\n",
      "\u001b[0;32m~/anaconda3/envs/tensorflow_p37/lib/python3.7/site-packages/pandas/io/parquet.py\u001b[0m in \u001b[0;36mget_engine\u001b[0;34m(engine)\u001b[0m\n\u001b[1;32m     30\u001b[0m \u001b[0;34m\u001b[0m\u001b[0m\n\u001b[1;32m     31\u001b[0m         raise ImportError(\n\u001b[0;32m---> 32\u001b[0;31m             \u001b[0;34m\"Unable to find a usable engine; \"\u001b[0m\u001b[0;34m\u001b[0m\u001b[0;34m\u001b[0m\u001b[0m\n\u001b[0m\u001b[1;32m     33\u001b[0m             \u001b[0;34m\"tried using: 'pyarrow', 'fastparquet'.\\n\"\u001b[0m\u001b[0;34m\u001b[0m\u001b[0;34m\u001b[0m\u001b[0m\n\u001b[1;32m     34\u001b[0m             \u001b[0;34m\"pyarrow or fastparquet is required for parquet \"\u001b[0m\u001b[0;34m\u001b[0m\u001b[0;34m\u001b[0m\u001b[0m\n",
      "\u001b[0;31mImportError\u001b[0m: Unable to find a usable engine; tried using: 'pyarrow', 'fastparquet'.\npyarrow or fastparquet is required for parquet support"
     ]
    }
   ],
   "source": [
    "# Load raw data \n",
    "# X_data_all = pd.read_parquet('df_all_61.parquet', columns=feats_preselect.append('csv_name'))\n",
    "X_data_all = pd.read_parquet('df_all_61.parquet')\n",
    "# X_data_all = pd.read_parquet('df_all_61.parquet', columns=feats_preselect)\n",
    "print(X_data_all.shape)"
   ]
  },
  {
   "cell_type": "code",
   "execution_count": 14,
   "metadata": {},
   "outputs": [
    {
     "name": "stdout",
     "output_type": "stream",
     "text": [
      "(305976, 1285)\n"
     ]
    }
   ],
   "source": [
    "# data cleaning module deletes columns with all nan or 0s \n",
    "# can add more data cleaning checks as needed\n",
    "\n",
    "dataset = data_cleaning.cleaner('df_all_61.parquet')\n",
    "print(dataset.shape)"
   ]
  },
  {
   "cell_type": "code",
   "execution_count": 0,
   "metadata": {
    "colab": {
     "base_uri": "https://localhost:8080/",
     "height": 1112
    },
    "colab_type": "code",
    "id": "VXJo7_KaWCZs",
    "outputId": "0444ef6f-e4fd-499f-dfde-2cf28f721cc7"
   },
   "outputs": [
    {
     "name": "stdout",
     "output_type": "stream",
     "text": [
      "(3582, 387)\n",
      "issues counts e2e9c795-3996-11e9-9344-42010a8a0015    12\n",
      "09ea9e59-3996-11e9-83ad-42010a8a0061    12\n",
      "164db4f1-3996-11e9-b8ff-42010a8a002a    11\n",
      "efde8957-3996-11e9-b693-42010a8a002f    11\n",
      "295d4b0d-3996-11e9-a722-42010a8a0019    11\n",
      "e09d9abb-3996-11e9-9344-42010a8a0015    11\n",
      "4fb2d60b-3996-11e9-a729-42010a8a0019    11\n",
      "7ea4e30f-3996-11e9-9332-42010a8a0015    11\n",
      "15319259-3996-11e9-aa10-42010a8a0017    11\n",
      "f1a3257d-3995-11e9-b8f8-42010a8a002a    11\n",
      "8105d4b5-3996-11e9-8aa6-42010a8a004f    11\n",
      "e4fa365b-3995-11e9-8a7e-42010a8a004f    11\n",
      "df7ca446-3995-11e9-9ca6-42010a8a0059    11\n",
      "14c1ad68-3996-11e9-b396-42010a8a0026    11\n",
      "e01ccb60-3995-11e9-b390-42010a8a0026    11\n",
      "47b0938d-3996-11e9-9328-42010a8a0015    11\n",
      "980dfbc9-3996-11e9-9336-42010a8a0015    10\n",
      "e325b629-3996-11e9-93a2-42010a8a005d    10\n",
      "fd55b92f-3996-11e9-9347-42010a8a0015    10\n",
      "1a2c2c9b-3996-11e9-b66f-42010a8a0060    10\n",
      "8141e561-3996-11e9-938b-42010a8a005d    10\n",
      "4c902553-3996-11e9-9757-42010a8a002e    10\n",
      "5f59dc67-3996-11e9-83c1-42010a8a0061    10\n",
      "4cce6be7-3996-11e9-b684-42010a8a0060    10\n",
      "dc4581e1-3995-11e9-a713-42010a8a0019    10\n",
      "4fd43187-3996-11e9-9757-42010a8a002e    10\n",
      "8fd0882d-3996-11e9-9947-42010a8a0043    10\n",
      "e3393adb-3995-11e9-973c-42010a8a002e    10\n",
      "e10f9665-3995-11e9-88f6-42010a8a005a    10\n",
      "bd4735ef-3996-11e9-b91f-42010a8a002a    10\n",
      "                                        ..\n",
      "96306cc7-3996-11e9-8915-42010a8a005a     1\n",
      "1241288e-3996-11e9-9cad-42010a8a0059     1\n",
      "feb3c8cb-3995-11e9-9425-42010a8a0058     1\n",
      "5c34d66b-3996-11e9-b920-42010a8a0034     1\n",
      "768beb21-3996-11e9-b911-42010a8a002a     1\n",
      "b239662b-3996-11e9-891f-42010a8a005a     1\n",
      "75552916-3996-11e9-90c3-42010a8a000f     1\n",
      "78bfb5cb-3996-11e9-b1e3-42010a8a0062     1\n",
      "6db5a834-3996-11e9-be54-42010a8a005b     1\n",
      "87de6381-3996-11e9-83c9-42010a8a0061     1\n",
      "2f15e035-3996-11e9-b1d3-42010a8a0062     1\n",
      "2aaf8730-3996-11e9-974a-42010a8a002e     1\n",
      "456cf3af-3996-11e9-b918-42010a8a0034     1\n",
      "13399af5-3996-11e9-942c-42010a8a0058     1\n",
      "4911a096-3996-11e9-88e6-42010a8a000d     1\n",
      "b61fc1ae-3996-11e9-88f3-42010a8a000d     1\n",
      "f720a6a6-3995-11e9-973e-42010a8a002e     1\n",
      "b05ae57d-3996-11e9-9763-42010a8a002e     1\n",
      "5f23052d-3996-11e9-ad1a-42010a8a0002     1\n",
      "c6663fe8-3996-11e9-be6b-42010a8a005b     1\n",
      "8c568975-3996-11e9-b1e9-42010a8a0062     1\n",
      "fc96a707-3995-11e9-973f-42010a8a002e     1\n",
      "735d9d4b-3996-11e9-b926-42010a8a0034     1\n",
      "23799b77-3996-11e9-a0a9-42010a8a0069     1\n",
      "e235c197-3995-11e9-909c-42010a8a000f     1\n",
      "8402b8ed-3996-11e9-83c9-42010a8a0061     1\n",
      "2fecd699-3996-11e9-ad15-42010a8a0002     1\n",
      "e02ea10f-3995-11e9-8a7e-42010a8a004f     1\n",
      "af3621eb-3996-11e9-933d-42010a8a0015     1\n",
      "133ac85d-3996-11e9-9378-42010a8a005d     1\n",
      "Name: issue_id, Length: 314, dtype: int64\n",
      "[3582, 1, 1, 1, 1, 1, 1, 1, 1745, 1641, 1023, 2082, 1, 1, 1, 1, 1, 1, 1, 1, 1, 1, 1, 1, 1, 1, 1, 1, 1, 1, 1, 1, 1, 1, 1, 1, 1, 1, 1, 1, 1, 1, 1, 1, 1, 1, 1, 1, 1, 2, 2, 7, 7, 3, 2590, 1435, 751, 3334, 8, 1, 166, 70, 47, 591, 1, 85, 39, 18, 223, 39, 17, 11, 95, 3393, 3297, 1963, 3403, 979, 685, 649, 1393, 1333, 1331, 1263, 1403, 3186, 2903, 2106, 3403, 1, 1, 1, 3271, 3028, 1322, 3410, 1060, 965, 404, 1060, 1, 1, 1, 7, 923, 888, 8, 918, 743, 8, 3463, 2, 2, 2, 27, 7, 4, 42, 68, 53, 11, 328, 1275, 911, 898, 1450, 990, 903, 17, 983, 864, 220, 1, 1, 43, 27, 3, 21, 45, 30, 3, 21, 48, 33, 3, 21, 48, 33, 3, 21, 1117, 1026, 425, 1281, 628, 548, 261, 682, 48, 33, 3, 21, 58, 54, 3, 2126, 1584, 729, 3286, 20, 43, 30, 3, 21, 218, 185, 69, 198, 42, 42, 12, 1, 1, 1, 1, 1, 1, 1, 1, 1, 1, 1, 1, 5, 2, 2, 5, 1570, 210, 42, 38, 193, 182, 33, 22, 154, 153, 33, 17, 135, 157, 33, 16, 141, 2027, 1923, 1577, 2046, 1780, 1730, 1490, 1728, 1445, 1435, 1402, 1429, 1539, 1527, 1426, 1500, 1, 1, 1, 1, 1, 1, 1, 1, 1, 5, 2, 2, 5, 7, 4, 2, 6, 22, 18, 4, 7, 1, 1, 1, 2, 2, 2, 2, 1, 5, 480, 1, 1, 1, 1, 1, 1, 7, 4, 2, 6, 1, 1, 1, 21, 18, 4, 9, 30, 2, 1, 2, 6, 2, 1, 1, 1, 1, 1, 1, 1, 1, 1, 1, 1, 1, 1, 1, 1, 1, 1, 1, 1, 1, 1, 1, 1, 1, 1, 3490, 507, 41, 34, 498, 464, 39, 37, 453, 602, 52, 38, 590, 624, 47, 48, 608, 3542, 3511, 3101, 3540, 3541, 3520, 2601, 3540, 1024, 31, 43, 968, 3478, 3435, 2308, 3542, 3514, 3238, 3540, 3458, 350, 44, 10, 348, 3488, 3476, 2326, 3464, 3477, 3433, 2301, 3458, 1, 1, 1, 1, 1, 1, 1, 1, 1, 1, 1, 1, 1, 1, 1, 1093, 1, 1, 1, 1, 1, 1, 1, 1, 1, 1, 1, 3, 315]\n"
     ]
    }
   ],
   "source": [
    "# data cleaning module deletes columns with all nan or 0s \n",
    "# can add more datacleaning checks later\n",
    "\n",
    "dataset = data_cleaning.cleaner(PROJ_PATH+\"/data.csv\")\n",
    "print(dataset.shape)\n",
    "\n",
    "# this is just some data exploration\n",
    "issues = dataset.issue_id.unique()  # 315 issues\n",
    "issues_counts = dataset.issue_id.value_counts()\n",
    "print(\"issues counts\",issues_counts)\n",
    "\n",
    "# print number of unique values per column\n",
    "num_issues = []\n",
    "for i in range(dataset.shape[1]):\n",
    "\tn_issues = len(dataset.iloc[:,i].unique())\n",
    "\tnum_issues.append(n_issues) \n",
    "\n",
    "print(num_issues)"
   ]
  },
  {
   "cell_type": "code",
   "execution_count": 0,
   "metadata": {
    "colab": {},
    "colab_type": "code",
    "id": "8atxLdU9aWIv"
   },
   "outputs": [],
   "source": [
    "# after cleaning the data we're ready to encode it categorical features and the labels\n",
    "data_encoding = SourceFileLoader('encoding', join(PROJ_PATH, 'data_encoding.py')).load_module()"
   ]
  },
  {
   "cell_type": "code",
   "execution_count": 0,
   "metadata": {
    "colab": {},
    "colab_type": "code",
    "id": "4SeIz8DueUiT"
   },
   "outputs": [],
   "source": [
    "# load the encoded data \n",
    "X_data_enc, y_data_enc = data_encoding.data_enc(dataset)"
   ]
  },
  {
   "cell_type": "code",
   "execution_count": 0,
   "metadata": {
    "colab": {},
    "colab_type": "code",
    "id": "Ew1hAObuf_3o"
   },
   "outputs": [],
   "source": [
    "# Do some nan imputation. There's a large number of nans and cannot do dimensionality reduction with them.\n",
    "# X_data_enc_clean = X_data_enc.fillna(value=0)  # naive \n",
    "X_data_enc_clean = X_data_enc.fillna(method='ffill')\n",
    "X_data_enc_clean.fillna(value=0, inplace=True)"
   ]
  },
  {
   "cell_type": "code",
   "execution_count": 0,
   "metadata": {
    "colab": {},
    "colab_type": "code",
    "id": "pGo0E2Yl9s6S"
   },
   "outputs": [],
   "source": [
    "# Scale the data \n",
    "X_data_enc_std = StandardScaler().fit_transform(X_data_enc_clean)"
   ]
  },
  {
   "cell_type": "code",
   "execution_count": 0,
   "metadata": {
    "colab": {
     "base_uri": "https://localhost:8080/",
     "height": 244
    },
    "colab_type": "code",
    "id": "ivW3QRmIgSuy",
    "outputId": "8f125ee4-2ce5-4aa4-b6fd-e5c188f98042"
   },
   "outputs": [
    {
     "data": {
      "text/html": [
       "<div>\n",
       "<style scoped>\n",
       "    .dataframe tbody tr th:only-of-type {\n",
       "        vertical-align: middle;\n",
       "    }\n",
       "\n",
       "    .dataframe tbody tr th {\n",
       "        vertical-align: top;\n",
       "    }\n",
       "\n",
       "    .dataframe thead th {\n",
       "        text-align: right;\n",
       "    }\n",
       "</style>\n",
       "<table border=\"1\" class=\"dataframe\">\n",
       "  <thead>\n",
       "    <tr style=\"text-align: right;\">\n",
       "      <th></th>\n",
       "      <th>timestamp</th>\n",
       "      <th>cluster_id</th>\n",
       "      <th>cluster_name</th>\n",
       "      <th>customer_id</th>\n",
       "      <th>service</th>\n",
       "      <th>batch_remove_batch_remove_dropped_var</th>\n",
       "      <th>batch_store_batch_store_dropped_var</th>\n",
       "      <th>blocked_anti_entropy_var</th>\n",
       "      <th>blocked_compactions_var</th>\n",
       "      <th>blocked_counter_writes_var</th>\n",
       "      <th>...</th>\n",
       "      <th>write_serial_timeouts_count_var</th>\n",
       "      <th>write_serial_unavailables_count_var</th>\n",
       "      <th>write_three_failures_count_var</th>\n",
       "      <th>write_three_timeouts_count_var</th>\n",
       "      <th>write_three_unavailables_count_var</th>\n",
       "      <th>write_timeouts_count_var</th>\n",
       "      <th>write_two_failures_count_var</th>\n",
       "      <th>write_two_timeouts_count_var</th>\n",
       "      <th>write_two_unavailables_count_var</th>\n",
       "      <th>write_unavailables_count_var</th>\n",
       "    </tr>\n",
       "  </thead>\n",
       "  <tbody>\n",
       "    <tr>\n",
       "      <th>0</th>\n",
       "      <td>0.0</td>\n",
       "      <td>1.0</td>\n",
       "      <td>1.0</td>\n",
       "      <td>0.0</td>\n",
       "      <td>0.0</td>\n",
       "      <td>0.0</td>\n",
       "      <td>0.0</td>\n",
       "      <td>0.0</td>\n",
       "      <td>0.0</td>\n",
       "      <td>0.0</td>\n",
       "      <td>...</td>\n",
       "      <td>0.0</td>\n",
       "      <td>0.0</td>\n",
       "      <td>0.0</td>\n",
       "      <td>0.0</td>\n",
       "      <td>0.0</td>\n",
       "      <td>0.0</td>\n",
       "      <td>0.0</td>\n",
       "      <td>0.0</td>\n",
       "      <td>0.0</td>\n",
       "      <td>0.0</td>\n",
       "    </tr>\n",
       "    <tr>\n",
       "      <th>1</th>\n",
       "      <td>1.0</td>\n",
       "      <td>1.0</td>\n",
       "      <td>1.0</td>\n",
       "      <td>0.0</td>\n",
       "      <td>0.0</td>\n",
       "      <td>0.0</td>\n",
       "      <td>0.0</td>\n",
       "      <td>0.0</td>\n",
       "      <td>0.0</td>\n",
       "      <td>0.0</td>\n",
       "      <td>...</td>\n",
       "      <td>0.0</td>\n",
       "      <td>0.0</td>\n",
       "      <td>0.0</td>\n",
       "      <td>0.0</td>\n",
       "      <td>0.0</td>\n",
       "      <td>0.0</td>\n",
       "      <td>0.0</td>\n",
       "      <td>0.0</td>\n",
       "      <td>0.0</td>\n",
       "      <td>0.0</td>\n",
       "    </tr>\n",
       "    <tr>\n",
       "      <th>2</th>\n",
       "      <td>2.0</td>\n",
       "      <td>1.0</td>\n",
       "      <td>1.0</td>\n",
       "      <td>0.0</td>\n",
       "      <td>0.0</td>\n",
       "      <td>0.0</td>\n",
       "      <td>0.0</td>\n",
       "      <td>0.0</td>\n",
       "      <td>0.0</td>\n",
       "      <td>0.0</td>\n",
       "      <td>...</td>\n",
       "      <td>0.0</td>\n",
       "      <td>0.0</td>\n",
       "      <td>0.0</td>\n",
       "      <td>0.0</td>\n",
       "      <td>0.0</td>\n",
       "      <td>0.0</td>\n",
       "      <td>0.0</td>\n",
       "      <td>0.0</td>\n",
       "      <td>0.0</td>\n",
       "      <td>0.0</td>\n",
       "    </tr>\n",
       "    <tr>\n",
       "      <th>3</th>\n",
       "      <td>3.0</td>\n",
       "      <td>1.0</td>\n",
       "      <td>1.0</td>\n",
       "      <td>0.0</td>\n",
       "      <td>0.0</td>\n",
       "      <td>0.0</td>\n",
       "      <td>0.0</td>\n",
       "      <td>0.0</td>\n",
       "      <td>0.0</td>\n",
       "      <td>0.0</td>\n",
       "      <td>...</td>\n",
       "      <td>0.0</td>\n",
       "      <td>0.0</td>\n",
       "      <td>0.0</td>\n",
       "      <td>0.0</td>\n",
       "      <td>0.0</td>\n",
       "      <td>0.0</td>\n",
       "      <td>0.0</td>\n",
       "      <td>0.0</td>\n",
       "      <td>0.0</td>\n",
       "      <td>0.0</td>\n",
       "    </tr>\n",
       "    <tr>\n",
       "      <th>4</th>\n",
       "      <td>4.0</td>\n",
       "      <td>1.0</td>\n",
       "      <td>1.0</td>\n",
       "      <td>0.0</td>\n",
       "      <td>0.0</td>\n",
       "      <td>0.0</td>\n",
       "      <td>0.0</td>\n",
       "      <td>0.0</td>\n",
       "      <td>0.0</td>\n",
       "      <td>0.0</td>\n",
       "      <td>...</td>\n",
       "      <td>0.0</td>\n",
       "      <td>0.0</td>\n",
       "      <td>0.0</td>\n",
       "      <td>0.0</td>\n",
       "      <td>0.0</td>\n",
       "      <td>0.0</td>\n",
       "      <td>0.0</td>\n",
       "      <td>0.0</td>\n",
       "      <td>0.0</td>\n",
       "      <td>0.0</td>\n",
       "    </tr>\n",
       "  </tbody>\n",
       "</table>\n",
       "<p>5 rows × 385 columns</p>\n",
       "</div>"
      ],
      "text/plain": [
       "   timestamp  cluster_id  cluster_name  customer_id  service  \\\n",
       "0        0.0         1.0           1.0          0.0      0.0   \n",
       "1        1.0         1.0           1.0          0.0      0.0   \n",
       "2        2.0         1.0           1.0          0.0      0.0   \n",
       "3        3.0         1.0           1.0          0.0      0.0   \n",
       "4        4.0         1.0           1.0          0.0      0.0   \n",
       "\n",
       "   batch_remove_batch_remove_dropped_var  batch_store_batch_store_dropped_var  \\\n",
       "0                                    0.0                                  0.0   \n",
       "1                                    0.0                                  0.0   \n",
       "2                                    0.0                                  0.0   \n",
       "3                                    0.0                                  0.0   \n",
       "4                                    0.0                                  0.0   \n",
       "\n",
       "   blocked_anti_entropy_var  blocked_compactions_var  \\\n",
       "0                       0.0                      0.0   \n",
       "1                       0.0                      0.0   \n",
       "2                       0.0                      0.0   \n",
       "3                       0.0                      0.0   \n",
       "4                       0.0                      0.0   \n",
       "\n",
       "   blocked_counter_writes_var              ...               \\\n",
       "0                         0.0              ...                \n",
       "1                         0.0              ...                \n",
       "2                         0.0              ...                \n",
       "3                         0.0              ...                \n",
       "4                         0.0              ...                \n",
       "\n",
       "   write_serial_timeouts_count_var  write_serial_unavailables_count_var  \\\n",
       "0                              0.0                                  0.0   \n",
       "1                              0.0                                  0.0   \n",
       "2                              0.0                                  0.0   \n",
       "3                              0.0                                  0.0   \n",
       "4                              0.0                                  0.0   \n",
       "\n",
       "   write_three_failures_count_var  write_three_timeouts_count_var  \\\n",
       "0                             0.0                             0.0   \n",
       "1                             0.0                             0.0   \n",
       "2                             0.0                             0.0   \n",
       "3                             0.0                             0.0   \n",
       "4                             0.0                             0.0   \n",
       "\n",
       "   write_three_unavailables_count_var  write_timeouts_count_var  \\\n",
       "0                                 0.0                       0.0   \n",
       "1                                 0.0                       0.0   \n",
       "2                                 0.0                       0.0   \n",
       "3                                 0.0                       0.0   \n",
       "4                                 0.0                       0.0   \n",
       "\n",
       "   write_two_failures_count_var  write_two_timeouts_count_var  \\\n",
       "0                           0.0                           0.0   \n",
       "1                           0.0                           0.0   \n",
       "2                           0.0                           0.0   \n",
       "3                           0.0                           0.0   \n",
       "4                           0.0                           0.0   \n",
       "\n",
       "   write_two_unavailables_count_var  write_unavailables_count_var  \n",
       "0                               0.0                           0.0  \n",
       "1                               0.0                           0.0  \n",
       "2                               0.0                           0.0  \n",
       "3                               0.0                           0.0  \n",
       "4                               0.0                           0.0  \n",
       "\n",
       "[5 rows x 385 columns]"
      ]
     },
     "execution_count": 68,
     "metadata": {
      "tags": []
     },
     "output_type": "execute_result"
    }
   ],
   "source": [
    "X_data_enc_clean.head()\n"
   ]
  },
  {
   "cell_type": "code",
   "execution_count": 0,
   "metadata": {
    "colab": {},
    "colab_type": "code",
    "id": "xK6p3qLEhww0"
   },
   "outputs": [],
   "source": [
    "# load the dimensionality reduction mudule\n",
    "# here we examine by hand, which features make the most sense, and also test them out with a \n",
    "# classifier\n",
    "dim_red = SourceFileLoader('dimred', join(PROJ_PATH, 'dim_red.py')).load_module()"
   ]
  },
  {
   "cell_type": "code",
   "execution_count": 0,
   "metadata": {
    "colab": {
     "base_uri": "https://localhost:8080/",
     "height": 294
    },
    "colab_type": "code",
    "id": "XZ4Qzgm-ItbV",
    "outputId": "362d7df8-34f9-426f-b7e1-0b07b32b0c52"
   },
   "outputs": [
    {
     "data": {
      "image/png": "[encoded data removed]",
      "text/plain": [
       "<Figure size 432x288 with 1 Axes>"
      ]
     },
     "metadata": {
      "image/png": {
       "height": 277,
       "width": 390
      },
      "tags": []
     },
     "output_type": "display_data"
    }
   ],
   "source": [
    "# do some exploration first\n",
    "pca = PCA().fit(X_data_enc_std)\n",
    "#Plotting the Cumulative Summation of the Explained Variance\n",
    "plt.figure()\n",
    "plt.plot(np.cumsum(pca.explained_variance_ratio_))\n",
    "plt.xlabel('Number of Components')\n",
    "plt.ylabel('Sum of Explaied Variance (%)') # for each component\n",
    "plt.title('Explained Variance')\n",
    "plt.show()"
   ]
  },
  {
   "cell_type": "code",
   "execution_count": 0,
   "metadata": {
    "colab": {
     "base_uri": "https://localhost:8080/",
     "height": 104
    },
    "colab_type": "code",
    "id": "vpODgM1JkJLg",
    "outputId": "15675dc7-b711-40dd-a4b0-d5fffd590548"
   },
   "outputs": [
    {
     "name": "stderr",
     "output_type": "stream",
     "text": [
      "/usr/local/lib/python3.6/dist-packages/sklearn/discriminant_analysis.py:388: UserWarning:\n",
      "\n",
      "Variables are collinear.\n",
      "\n"
     ]
    }
   ],
   "source": [
    "X_pca, X_kpca, X_rp, X_lda = dim_red.dim_reduction(pd.DataFrame(X_data_enc_std), y_data_enc)"
   ]
  },
  {
   "cell_type": "code",
   "execution_count": 0,
   "metadata": {
    "colab": {
     "base_uri": "https://localhost:8080/",
     "height": 34
    },
    "colab_type": "code",
    "id": "EJnfSOxrlPmm",
    "outputId": "13faa6de-dd53-4fb9-d6a2-46286f02aed2"
   },
   "outputs": [
    {
     "data": {
      "text/plain": [
       "(3582, 40)"
      ]
     },
     "execution_count": 19,
     "metadata": {
      "tags": []
     },
     "output_type": "execute_result"
    }
   ],
   "source": [
    "X_pca.shape\n"
   ]
  },
  {
   "cell_type": "markdown",
   "metadata": {
    "colab_type": "text",
    "id": "op0wMcA8c2pq"
   },
   "source": [
    "The cells below are not necessary for dimensionality reduction. They only assess the reduced dataset with a learner."
   ]
  },
  {
   "cell_type": "code",
   "execution_count": 0,
   "metadata": {
    "colab": {},
    "colab_type": "code",
    "id": "EtoHLSGdgWwi"
   },
   "outputs": [],
   "source": [
    "# split the data into training and testing\n",
    "def ts_split(dataset, train_perc):\n",
    "    # dataset is a dataframe\n",
    "    train_size = int(len(dataset) * train_perc)\n",
    "    test_size = len(dataset) - train_size\n",
    "    train, test = dataset.iloc[0:train_size,:], dataset.iloc[train_size:len(dataset),:]\n",
    "    return train, test\n",
    "\n"
   ]
  },
  {
   "cell_type": "code",
   "execution_count": 0,
   "metadata": {
    "colab": {
     "base_uri": "https://localhost:8080/",
     "height": 50
    },
    "colab_type": "code",
    "id": "voZ2apA0nkT5",
    "outputId": "fd38c67b-cb07-409d-cc98-e7f3e419f37a"
   },
   "outputs": [
    {
     "name": "stdout",
     "output_type": "stream",
     "text": [
      "(2507, 40)\n",
      "(1075, 40)\n"
     ]
    }
   ],
   "source": [
    "# split the reduced dataset\n",
    "dataset = pd.concat([pd.DataFrame(X_pca), pd.DataFrame(y_data_enc)],axis=1)\n",
    "train, test = ts_split(dataset, 0.7)\n",
    "X_train, y_train = train.iloc[:,:-1], train.iloc[:,-1]\n",
    "X_test, y_test = test.iloc[:,:-1], test.iloc[:,-1]\n",
    "print(X_train.shape)\n",
    "print(X_test.shape)"
   ]
  },
  {
   "cell_type": "code",
   "execution_count": 0,
   "metadata": {
    "colab": {
     "base_uri": "https://localhost:8080/",
     "height": 50
    },
    "colab_type": "code",
    "id": "0k_wIqMTbScs",
    "outputId": "063dabb4-a5bc-4221-d890-a1941844180c"
   },
   "outputs": [
    {
     "name": "stdout",
     "output_type": "stream",
     "text": [
      "(2507, 385)\n",
      "(1075, 385)\n"
     ]
    }
   ],
   "source": [
    "# split the original training set\n",
    "orig_data = pd.concat([pd.DataFrame(X_data_enc_std), pd.DataFrame(y_data_enc)], axis=1)\n",
    "train_org, test_org = ts_split(orig_data, 0.7)\n",
    "X_train_org, y_train_org = train_org.iloc[:,:-1], train_org.iloc[:,-1]\n",
    "X_test_org, y_test_org = test_org.iloc[:,:-1], test_org.iloc[:,-1]\n",
    "print(X_train_org.shape)\n",
    "print(X_test_org.shape)"
   ]
  },
  {
   "cell_type": "code",
   "execution_count": 0,
   "metadata": {
    "colab": {
     "base_uri": "https://localhost:8080/",
     "height": 34
    },
    "colab_type": "code",
    "id": "930tO1InplX5",
    "outputId": "b45dddf7-8eb9-4788-e761-c9dd7c2658bd"
   },
   "outputs": [
    {
     "name": "stdout",
     "output_type": "stream",
     "text": [
      "0.6509772636617471\n"
     ]
    }
   ],
   "source": [
    "# test some simple learners with reduced data\n",
    "rf_clf = RandomForestClassifier(n_estimators=200, max_depth=3, \n",
    "\t\t       random_state=500)\n",
    "rf_clf.fit(X_train, y_train)\n",
    "rf_score = rf_clf.score(X_train,y_train)\n",
    "feat_importances = rf_clf.feature_importances_\n",
    "\n",
    "print(rf_score)"
   ]
  },
  {
   "cell_type": "code",
   "execution_count": 0,
   "metadata": {
    "colab": {
     "base_uri": "https://localhost:8080/",
     "height": 34
    },
    "colab_type": "code",
    "id": "oVAN9UWpdjWa",
    "outputId": "978c29d5-9962-47fc-ed0d-b35ee3d5a1c2"
   },
   "outputs": [
    {
     "name": "stdout",
     "output_type": "stream",
     "text": [
      "0.6980454726765057\n"
     ]
    }
   ],
   "source": [
    "# test some simple learners with original data\n",
    "rf_clf = RandomForestClassifier(n_estimators=2000, max_depth=3, \n",
    "\t\t       random_state=500)\n",
    "rf_clf.fit(X_train_org, y_train_org)\n",
    "rf_score = rf_clf.score(X_train_org,y_train_org)\n",
    "feat_importances = rf_clf.feature_importances_\n",
    "\n",
    "print(rf_score)"
   ]
  },
  {
   "cell_type": "code",
   "execution_count": 0,
   "metadata": {
    "colab": {
     "base_uri": "https://localhost:8080/",
     "height": 34
    },
    "colab_type": "code",
    "id": "IhWlaBAlUmuz",
    "outputId": "6884890b-6d77-41bf-e2f1-0764e9089c27"
   },
   "outputs": [
    {
     "name": "stderr",
     "output_type": "stream",
     "text": [
      "Using TensorFlow backend.\n"
     ]
    }
   ],
   "source": [
    "from keras.models import Sequential\n",
    "from keras.layers.core import Dense, Dropout, Activation\n",
    "from keras.optimizers import RMSprop, Adam\n",
    "from keras.layers import LSTM\n",
    "from keras.models import load_model"
   ]
  },
  {
   "cell_type": "code",
   "execution_count": 0,
   "metadata": {
    "colab": {
     "base_uri": "https://localhost:8080/",
     "height": 34
    },
    "colab_type": "code",
    "id": "71JZ4Mh0ez_i",
    "outputId": "aae88eb6-9952-43c3-af35-03a19795fbf5"
   },
   "outputs": [
    {
     "data": {
      "text/plain": [
       "(2507, 40)"
      ]
     },
     "execution_count": 36,
     "metadata": {
      "tags": []
     },
     "output_type": "execute_result"
    }
   ],
   "source": [
    "X_train.shape"
   ]
  },
  {
   "cell_type": "code",
   "execution_count": 0,
   "metadata": {
    "colab": {},
    "colab_type": "code",
    "id": "hs0ESsJpeGTF"
   },
   "outputs": [],
   "source": [
    "# reshape feature data for LSTM\n",
    "n_steps = 1\n",
    "X_train_lstm = np.reshape(X_train.values, (X_train.shape[0], 1, X_train.shape[1]))\n",
    "X_test_lstm = np.reshape(X_test.values, (X_test.shape[0], n_steps, X_test.shape[1]))"
   ]
  },
  {
   "cell_type": "code",
   "execution_count": 0,
   "metadata": {
    "colab": {},
    "colab_type": "code",
    "id": "HaOFiJGyWkFf"
   },
   "outputs": [],
   "source": [
    "def build_model(feats_dim, optimizer='rmsprop', init='glorot_uniform'):        \n",
    "    model = Sequential()  \n",
    "    num_classes = 2 \n",
    "    model.add(LSTM(64, return_sequences=True, stateful=False, \n",
    "                   input_shape=(1, feats_dim)))\n",
    "    model.add(Dropout(0.5))\n",
    "    model.add(LSTM(64, return_sequences=True,\n",
    "                       stateful=False))\n",
    "    model.add(Dropout(0.5))\n",
    "    model.add(LSTM(64, return_sequences=True,\n",
    "                       stateful=False))\n",
    "    model.add(LSTM(64, stateful=False))\n",
    "    model.add(Dropout(0.5)) \n",
    "    model.add(Dense(num_classes, kernel_initializer=init))\n",
    "    model.add(Activation('softmax')) \n",
    "    model.compile(loss='categorical_crossentropy', optimizer=optimizer, metrics=['accuracy'])\n",
    "    return model "
   ]
  },
  {
   "cell_type": "code",
   "execution_count": 0,
   "metadata": {
    "colab": {},
    "colab_type": "code",
    "id": "jzq8yjtMa5lm"
   },
   "outputs": [],
   "source": []
  }
 ],
 "metadata": {
  "colab": {
   "name": "Dim_reduction.ipynb",
   "provenance": []
  },
  "kernelspec": {
   "display_name": "Python 3",
   "language": "python",
   "name": "python3"
  },
  "language_info": {
   "codemirror_mode": {
    "name": "ipython",
    "version": 3
   },
   "file_extension": ".py",
   "mimetype": "text/x-python",
   "name": "python",
   "nbconvert_exporter": "python",
   "pygments_lexer": "ipython3",
   "version": "3.7.3"
  }
 },
 "nbformat": 4,
 "nbformat_minor": 1
}
