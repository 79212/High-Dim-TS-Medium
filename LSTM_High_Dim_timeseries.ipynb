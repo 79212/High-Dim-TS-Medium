{
 "cells": [
  {
   "cell_type": "markdown",
   "metadata": {},
   "source": [
    "# Classification of a time series using Keras"
   ]
  },
  {
   "cell_type": "markdown",
   "metadata": {},
   "source": [
    "In this example, we use time series data for classification. The following tasks are already completed:\n",
    "\n",
    "    1. Data is clean (data gaps imputed, NaN columns deleted)\n",
    "    2. Non-numeric data is encoded into numeric data types.\n",
    "    3. Dimensionality reduction is alredy done.\n",
    "    4. Sequence lengths have been determined through domain knowledge and signal processing."
   ]
  },
  {
   "cell_type": "markdown",
   "metadata": {},
   "source": [
    "### Import some libraries"
   ]
  },
  {
   "cell_type": "code",
   "execution_count": 1,
   "metadata": {},
   "outputs": [
    {
     "name": "stderr",
     "output_type": "stream",
     "text": [
      "Using TensorFlow backend.\n"
     ]
    }
   ],
   "source": [
    "import numpy as np \n",
    "import pandas as pd\n",
    "\n",
    "import keras as K\n",
    "from keras.models import *\n",
    "\n",
    "from keras.layers.core import *\n",
    "from keras.optimizers import RMSprop, Adam\n",
    "from keras.layers import LSTM\n",
    "from keras.models import load_model\n",
    "from keras.callbacks import EarlyStopping\n",
    "from keras.callbacks import ModelCheckpoint\n",
    "from keras.wrappers.scikit_learn import KerasRegressor, KerasClassifier\n",
    "\n",
    "\n",
    "# from sklearn.preprocessing import MinMaxScaler\n",
    "# from sklearn.metrics import mean_squared_error\n",
    "import matplotlib.pyplot as plt\n",
    "import pickle\n",
    "\n",
    "np.random.seed(500)"
   ]
  },
  {
   "cell_type": "code",
   "execution_count": 2,
   "metadata": {},
   "outputs": [
    {
     "name": "stderr",
     "output_type": "stream",
     "text": [
      "/usr/local/lib/python3.7/dist-packages/sklearn/externals/joblib/__init__.py:15: DeprecationWarning: sklearn.externals.joblib is deprecated in 0.21 and will be removed in 0.23. Please import this functionality directly from joblib, which can be installed with: pip install joblib. If this warning is raised when loading pickled models, you may need to re-serialize those models with scikit-learn 0.21+.\n",
      "  warnings.warn(msg, category=DeprecationWarning)\n"
     ]
    }
   ],
   "source": [
    "from scipy.stats import expon, randint\n",
    "from keras.utils import np_utils\n",
    "from sklearn.utils.testing import ignore_warnings\n",
    "from sklearn.exceptions import ConvergenceWarning\n",
    "from sklearn.externals import joblib\n",
    "from sklearn.metrics import confusion_matrix\n",
    "from sklearn.model_selection import train_test_split, GridSearchCV, RandomizedSearchCV\n",
    "\n",
    "from sklearn.model_selection import learning_curve\n",
    "from sklearn.model_selection import KFold\n",
    "\n",
    "from sklearn.preprocessing import StandardScaler, MinMaxScaler\n"
   ]
  },
  {
   "cell_type": "markdown",
   "metadata": {},
   "source": [
    "### Read the data "
   ]
  },
  {
   "cell_type": "code",
   "execution_count": 3,
   "metadata": {},
   "outputs": [],
   "source": [
    "# read files\n",
    "X_train_df = pd.read_parquet('X_train_df.parquet')\n",
    "X_test_df = pd.read_parquet('X_test_df.parquet')\n",
    "y_train_df = pd.read_parquet('y_train_df.parquet')\n",
    "y_test_df = pd.read_parquet('y_test_df.parquet')"
   ]
  },
  {
   "cell_type": "code",
   "execution_count": 4,
   "metadata": {},
   "outputs": [
    {
     "name": "stdout",
     "output_type": "stream",
     "text": [
      "(214171, 448)\n",
      "(91805, 448)\n",
      "(3511, 1)\n",
      "(1505, 1)\n"
     ]
    }
   ],
   "source": [
    "print(X_train_df.shape)\n",
    "print(X_test_df.shape)\n",
    "print(y_train_df.shape)\n",
    "print(y_test_df.shape)"
   ]
  },
  {
   "cell_type": "markdown",
   "metadata": {},
   "source": [
    "### Convert input to 3D tensor for LSTM. If you are using a CNN, remember to embed the input accordingly. \n",
    "### We'll have a CNN in a later post."
   ]
  },
  {
   "cell_type": "code",
   "execution_count": 5,
   "metadata": {},
   "outputs": [
    {
     "name": "stdout",
     "output_type": "stream",
     "text": [
      "(3511, 61, 448)\n",
      "(1505, 61, 448)\n",
      "(3511, 9)\n",
      "(1505, 9)\n"
     ]
    }
   ],
   "source": [
    "# reshape the data for LSTM\n",
    "time_steps = 61  # sequence length\n",
    "num_classes= 9\n",
    "X_train = np.reshape(X_train_df.values, (int(X_train_df.shape[0]/time_steps), time_steps, X_train_df.shape[1]))\n",
    "X_test = np.reshape(X_test_df.values, (int(X_test_df.shape[0]/time_steps), time_steps, X_test_df.shape[1]))\n",
    "\n",
    "y_train = np_utils.to_categorical(y_train_df, num_classes, dtype='float32')\n",
    "y_test = np_utils.to_categorical(y_test_df, num_classes, dtype='float32')\n",
    "print(X_train.shape)\n",
    "print(X_test.shape)\n",
    "print(y_train.shape)\n",
    "print(y_test.shape)"
   ]
  },
  {
   "cell_type": "markdown",
   "metadata": {},
   "source": [
    "# Build a keras model"
   ]
  },
  {
   "cell_type": "code",
   "execution_count": 6,
   "metadata": {},
   "outputs": [],
   "source": [
    "from keras.utils import plot_model\n",
    "from keras.models import Model\n",
    "from keras.layers import Input\n",
    "from keras.layers import Dense\n",
    "from keras.layers.recurrent import LSTM\n",
    "\n",
    "\n",
    "def build_model_lstm(time_steps, feats_dim, num_classes, optimizer='rmsprop', \n",
    "        init='glorot_uniform'):\n",
    "    x_in = Input(shape=(time_steps, feats_dim))\n",
    "    h1 = LSTM(128,return_sequences=True)(x_in)\n",
    "    h1 = Dropout(0.5)(h1)\n",
    "    h2 = LSTM(64,return_sequences=True)(h1)\n",
    "    h2 = Dropout(0.5)(h2)\n",
    "    h3 = LSTM(32,return_sequences=True)(h2)\n",
    "    h4 = LSTM(32)(h3)\n",
    "    h4 = Dropout(0.5)(h4)\n",
    "    out = Dense(num_classes, kernel_initializer=init, \n",
    "                   activation='softmax')(h4)\n",
    "    model = Model(inputs=x_in, outputs=out)\n",
    "    model.compile(optimizer=optimizer,\n",
    "                  loss='categorical_crossentropy',\n",
    "                  metrics=['accuracy'])\n",
    "    return model "
   ]
  },
  {
   "cell_type": "code",
   "execution_count": 7,
   "metadata": {},
   "outputs": [],
   "source": [
    "def train_model(model, X_train, y_train, batch_size = 32, \n",
    "        epochs=2000, shuffle = True):\n",
    "    es = EarlyStopping(monitor='val_loss', verbose=1, patience=5, min_delta=10e-6)\n",
    "    mc = ModelCheckpoint('best_model_LSTM_example.h5', monitor='val_loss', verbose=1, save_best_only=True)\n",
    "    \n",
    "    if len(X_train) % 2 == 1:  # if len(X_train) is odd\n",
    "        X_train = X_train[:-1,:]\n",
    "        y_train = y_train[:-1,:]\n",
    "    x_val = X_train[:int(len(X_train)*0.2)]\n",
    "    y_val = y_train[:int(len(X_train)*0.2)]\n",
    "    \n",
    "    \n",
    "    \n",
    "    history = model.fit(X_train, y_train, batch_size, epochs, shuffle, validation_data=(x_val, y_val) ,callbacks=[es, mc])\n",
    "    \n",
    "    plt.plot(history.history['loss'])\n",
    "    plt.title('model loss')\n",
    "    plt.ylabel('loss')\n",
    "    plt.xlabel('epoch')\n",
    "    plt.legend(['train', 'test'], loc='upper left')\n",
    "    plt.show()\n",
    "    trained_model = model\n",
    "    return trained_model"
   ]
  },
  {
   "cell_type": "code",
   "execution_count": 8,
   "metadata": {},
   "outputs": [
    {
     "name": "stdout",
     "output_type": "stream",
     "text": [
      "WARNING:tensorflow:From /usr/local/lib/python3.7/dist-packages/tensorflow/python/framework/op_def_library.py:263: colocate_with (from tensorflow.python.framework.ops) is deprecated and will be removed in a future version.\n",
      "Instructions for updating:\n",
      "Colocations handled automatically by placer.\n",
      "WARNING:tensorflow:From /usr/local/lib/python3.7/dist-packages/keras/backend/tensorflow_backend.py:3445: calling dropout (from tensorflow.python.ops.nn_ops) with keep_prob is deprecated and will be removed in a future version.\n",
      "Instructions for updating:\n",
      "Please use `rate` instead of `keep_prob`. Rate should be set to `rate = 1 - keep_prob`.\n",
      "_________________________________________________________________\n",
      "Layer (type)                 Output Shape              Param #   \n",
      "=================================================================\n",
      "input_1 (InputLayer)         (None, 61, 448)           0         \n",
      "_________________________________________________________________\n",
      "lstm_1 (LSTM)                (None, 61, 128)           295424    \n",
      "_________________________________________________________________\n",
      "dropout_1 (Dropout)          (None, 61, 128)           0         \n",
      "_________________________________________________________________\n",
      "lstm_2 (LSTM)                (None, 61, 64)            49408     \n",
      "_________________________________________________________________\n",
      "dropout_2 (Dropout)          (None, 61, 64)            0         \n",
      "_________________________________________________________________\n",
      "lstm_3 (LSTM)                (None, 61, 32)            12416     \n",
      "_________________________________________________________________\n",
      "lstm_4 (LSTM)                (None, 32)                8320      \n",
      "_________________________________________________________________\n",
      "dropout_3 (Dropout)          (None, 32)                0         \n",
      "_________________________________________________________________\n",
      "dense_1 (Dense)              (None, 9)                 297       \n",
      "=================================================================\n",
      "Total params: 365,865\n",
      "Trainable params: 365,865\n",
      "Non-trainable params: 0\n",
      "_________________________________________________________________\n"
     ]
    }
   ],
   "source": [
    "feats_dim = X_train.shape[2]\n",
    "model = build_model_lstm(time_steps, feats_dim, num_classes)\n",
    "model.summary()"
   ]
  },
  {
   "cell_type": "markdown",
   "metadata": {},
   "source": [
    "## Train the model"
   ]
  },
  {
   "cell_type": "code",
   "execution_count": 9,
   "metadata": {},
   "outputs": [
    {
     "name": "stdout",
     "output_type": "stream",
     "text": [
      "WARNING:tensorflow:From /usr/local/lib/python3.7/dist-packages/tensorflow/python/ops/math_ops.py:3066: to_int32 (from tensorflow.python.ops.math_ops) is deprecated and will be removed in a future version.\n",
      "Instructions for updating:\n",
      "Use tf.cast instead.\n",
      "Train on 3510 samples, validate on 702 samples\n",
      "Epoch 1/200\n",
      "3510/3510 [==============================] - 42s 12ms/step - loss: 0.8590 - acc: 0.7957 - val_loss: 0.4433 - val_acc: 0.8960\n",
      "\n",
      "Epoch 00001: val_loss improved from inf to 0.44334, saving model to best_model_LSTM_example.h5\n",
      "Epoch 2/200\n",
      "3510/3510 [==============================] - 38s 11ms/step - loss: 0.4538 - acc: 0.8912 - val_loss: 0.3318 - val_acc: 0.9103\n",
      "\n",
      "Epoch 00002: val_loss improved from 0.44334 to 0.33176, saving model to best_model_LSTM_example.h5\n",
      "Epoch 3/200\n",
      "3510/3510 [==============================] - 40s 11ms/step - loss: 0.3714 - acc: 0.9097 - val_loss: 0.2765 - val_acc: 0.9274\n",
      "\n",
      "Epoch 00003: val_loss improved from 0.33176 to 0.27654, saving model to best_model_LSTM_example.h5\n",
      "Epoch 4/200\n",
      "3510/3510 [==============================] - 39s 11ms/step - loss: 0.3000 - acc: 0.9259 - val_loss: 0.2433 - val_acc: 0.9444\n",
      "\n",
      "Epoch 00004: val_loss improved from 0.27654 to 0.24328, saving model to best_model_LSTM_example.h5\n",
      "Epoch 5/200\n",
      "3510/3510 [==============================] - 39s 11ms/step - loss: 0.2754 - acc: 0.9373 - val_loss: 0.2419 - val_acc: 0.9473\n",
      "\n",
      "Epoch 00005: val_loss improved from 0.24328 to 0.24191, saving model to best_model_LSTM_example.h5\n",
      "Epoch 6/200\n",
      "3510/3510 [==============================] - 38s 11ms/step - loss: 0.2311 - acc: 0.9453 - val_loss: 0.1605 - val_acc: 0.9615\n",
      "\n",
      "Epoch 00006: val_loss improved from 0.24191 to 0.16054, saving model to best_model_LSTM_example.h5\n",
      "Epoch 7/200\n",
      "3510/3510 [==============================] - 40s 11ms/step - loss: 0.2060 - acc: 0.9519 - val_loss: 0.1877 - val_acc: 0.9416\n",
      "\n",
      "Epoch 00007: val_loss did not improve from 0.16054\n",
      "Epoch 8/200\n",
      "3510/3510 [==============================] - 40s 11ms/step - loss: 0.1943 - acc: 0.9507 - val_loss: 0.1820 - val_acc: 0.9501\n",
      "\n",
      "Epoch 00008: val_loss did not improve from 0.16054\n",
      "Epoch 9/200\n",
      "3510/3510 [==============================] - 40s 11ms/step - loss: 0.1888 - acc: 0.9556 - val_loss: 0.1321 - val_acc: 0.9644\n",
      "\n",
      "Epoch 00009: val_loss improved from 0.16054 to 0.13209, saving model to best_model_LSTM_example.h5\n",
      "Epoch 10/200\n",
      "3510/3510 [==============================] - 40s 11ms/step - loss: 0.1655 - acc: 0.9607 - val_loss: 0.1130 - val_acc: 0.9658\n",
      "\n",
      "Epoch 00010: val_loss improved from 0.13209 to 0.11299, saving model to best_model_LSTM_example.h5\n",
      "Epoch 11/200\n",
      "3510/3510 [==============================] - 41s 12ms/step - loss: 0.1677 - acc: 0.9615 - val_loss: 0.1347 - val_acc: 0.9658\n",
      "\n",
      "Epoch 00011: val_loss did not improve from 0.11299\n",
      "Epoch 12/200\n",
      "3510/3510 [==============================] - 40s 12ms/step - loss: 0.1579 - acc: 0.9618 - val_loss: 0.1033 - val_acc: 0.9729\n",
      "\n",
      "Epoch 00012: val_loss improved from 0.11299 to 0.10333, saving model to best_model_LSTM_example.h5\n",
      "Epoch 13/200\n",
      "3510/3510 [==============================] - 39s 11ms/step - loss: 0.1421 - acc: 0.9650 - val_loss: 0.0851 - val_acc: 0.9744\n",
      "\n",
      "Epoch 00013: val_loss improved from 0.10333 to 0.08513, saving model to best_model_LSTM_example.h5\n",
      "Epoch 14/200\n",
      "3510/3510 [==============================] - 38s 11ms/step - loss: 0.1270 - acc: 0.9647 - val_loss: 0.0813 - val_acc: 0.9758\n",
      "\n",
      "Epoch 00014: val_loss improved from 0.08513 to 0.08130, saving model to best_model_LSTM_example.h5\n",
      "Epoch 15/200\n",
      "3510/3510 [==============================] - 38s 11ms/step - loss: 0.1304 - acc: 0.9670 - val_loss: 0.0797 - val_acc: 0.9772\n",
      "\n",
      "Epoch 00015: val_loss improved from 0.08130 to 0.07975, saving model to best_model_LSTM_example.h5\n",
      "Epoch 16/200\n",
      "3510/3510 [==============================] - 38s 11ms/step - loss: 0.1277 - acc: 0.9695 - val_loss: 0.0803 - val_acc: 0.9744\n",
      "\n",
      "Epoch 00016: val_loss did not improve from 0.07975\n",
      "Epoch 17/200\n",
      "3510/3510 [==============================] - 38s 11ms/step - loss: 0.1224 - acc: 0.9701 - val_loss: 0.0763 - val_acc: 0.9758\n",
      "\n",
      "Epoch 00017: val_loss improved from 0.07975 to 0.07625, saving model to best_model_LSTM_example.h5\n",
      "Epoch 18/200\n",
      "3510/3510 [==============================] - 38s 11ms/step - loss: 0.1077 - acc: 0.9718 - val_loss: 0.0622 - val_acc: 0.9786\n",
      "\n",
      "Epoch 00018: val_loss improved from 0.07625 to 0.06216, saving model to best_model_LSTM_example.h5\n",
      "Epoch 19/200\n",
      "3510/3510 [==============================] - 38s 11ms/step - loss: 0.1129 - acc: 0.9726 - val_loss: 0.0766 - val_acc: 0.9758\n",
      "\n",
      "Epoch 00019: val_loss did not improve from 0.06216\n",
      "Epoch 20/200\n",
      "3510/3510 [==============================] - 38s 11ms/step - loss: 0.0964 - acc: 0.9761 - val_loss: 0.0728 - val_acc: 0.9843\n",
      "\n",
      "Epoch 00020: val_loss did not improve from 0.06216\n",
      "Epoch 21/200\n",
      "3510/3510 [==============================] - 38s 11ms/step - loss: 0.0978 - acc: 0.9726 - val_loss: 0.0504 - val_acc: 0.9829\n",
      "\n",
      "Epoch 00021: val_loss improved from 0.06216 to 0.05043, saving model to best_model_LSTM_example.h5\n",
      "Epoch 22/200\n",
      "3510/3510 [==============================] - 38s 11ms/step - loss: 0.0843 - acc: 0.9783 - val_loss: 0.0384 - val_acc: 0.9886\n",
      "\n",
      "Epoch 00022: val_loss improved from 0.05043 to 0.03841, saving model to best_model_LSTM_example.h5\n",
      "Epoch 23/200\n",
      "3510/3510 [==============================] - 38s 11ms/step - loss: 0.0996 - acc: 0.9744 - val_loss: 0.0485 - val_acc: 0.9858\n",
      "\n",
      "Epoch 00023: val_loss did not improve from 0.03841\n",
      "Epoch 24/200\n",
      "3510/3510 [==============================] - 38s 11ms/step - loss: 0.0810 - acc: 0.9778 - val_loss: 0.0574 - val_acc: 0.9858\n",
      "\n",
      "Epoch 00024: val_loss did not improve from 0.03841\n",
      "Epoch 25/200\n",
      "3510/3510 [==============================] - 38s 11ms/step - loss: 0.0802 - acc: 0.9778 - val_loss: 0.0826 - val_acc: 0.9815\n",
      "\n",
      "Epoch 00025: val_loss did not improve from 0.03841\n",
      "Epoch 26/200\n",
      "3510/3510 [==============================] - 38s 11ms/step - loss: 0.1068 - acc: 0.9744 - val_loss: 0.0470 - val_acc: 0.9858\n",
      "\n",
      "Epoch 00026: val_loss did not improve from 0.03841\n",
      "Epoch 27/200\n",
      "3510/3510 [==============================] - 38s 11ms/step - loss: 0.0761 - acc: 0.9792 - val_loss: 0.0833 - val_acc: 0.9715\n",
      "\n",
      "Epoch 00027: val_loss did not improve from 0.03841\n",
      "Epoch 00027: early stopping\n"
     ]
    },
    {
     "data": {
      "image/png": "[encoded data removed]",
      "text/plain": [
       "<Figure size 432x288 with 1 Axes>"
      ]
     },
     "metadata": {
      "needs_background": "light"
     },
     "output_type": "display_data"
    },
    {
     "data": {
      "text/plain": [
       "<keras.engine.training.Model at 0x7fcf4cdb1a20>"
      ]
     },
     "execution_count": 9,
     "metadata": {},
     "output_type": "execute_result"
    }
   ],
   "source": [
    "train_model(model, X_train, y_train, 32,200)"
   ]
  },
  {
   "cell_type": "markdown",
   "metadata": {},
   "source": [
    "# Inspect prediction accuracy"
   ]
  },
  {
   "cell_type": "code",
   "execution_count": 10,
   "metadata": {},
   "outputs": [
    {
     "name": "stdout",
     "output_type": "stream",
     "text": [
      "3511/3511 [==============================] - 14s 4ms/step\n",
      "[0.08269726071049897, 0.9737966391341498]\n"
     ]
    }
   ],
   "source": [
    "lstm_score_train = model.evaluate(X_train,y_train)\n",
    "print(lstm_score_train)"
   ]
  },
  {
   "cell_type": "code",
   "execution_count": 11,
   "metadata": {},
   "outputs": [
    {
     "name": "stdout",
     "output_type": "stream",
     "text": [
      "1505/1505 [==============================] - 6s 4ms/step\n",
      "[0.2143229364015261, 0.9534883720930233]\n"
     ]
    }
   ],
   "source": [
    "lstm_score_test = model.evaluate(X_test,y_test)\n",
    "print(lstm_score_test)"
   ]
  }
 ],
 "metadata": {
  "kernelspec": {
   "display_name": "Python 3",
   "language": "python",
   "name": "python3"
  },
  "language_info": {
   "codemirror_mode": {
    "name": "ipython",
    "version": 3
   },
   "file_extension": ".py",
   "mimetype": "text/x-python",
   "name": "python",
   "nbconvert_exporter": "python",
   "pygments_lexer": "ipython3",
   "version": "3.7.3"
  }
 },
 "nbformat": 4,
 "nbformat_minor": 2
}
